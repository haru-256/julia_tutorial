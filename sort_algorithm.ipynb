{
 "cells": [
  {
   "cell_type": "markdown",
   "metadata": {},
   "source": [
    "# ソートアルゴリズムを実装\n",
    "\n",
    "- selection\n",
    "- bubble\n",
    "- heap\n",
    "- quick\n",
    "\n",
    "[【Unity】ソートアルゴリズム12種を可視化してみた](https://qiita.com/r-ngtm/items/f4fa55c77459f63a5228#%E3%83%90%E3%82%B1%E3%83%83%E3%83%88%E3%82%BD%E3%83%BC%E3%83%88)"
   ]
  },
  {
   "cell_type": "markdown",
   "metadata": {},
   "source": [
    "## Utility"
   ]
  },
  {
   "cell_type": "code",
   "execution_count": 1,
   "metadata": {},
   "outputs": [
    {
     "data": {
      "text/plain": [
       "argmin_"
      ]
     },
     "execution_count": 1,
     "metadata": {},
     "output_type": "execute_result"
    }
   ],
   "source": [
    "\"\"\"\n",
    "    argmin_(data::Array)::Int64\n",
    "\n",
    "find index of minimum values in `data` and return that index.\n",
    "\n",
    "# Argument\n",
    "- `data::Array`: the searched Array\n",
    "\n",
    "# Return\n",
    "- `imin::Int64`: index of minimum values\n",
    "\"\"\"\n",
    "function argmin_(data::Array)::Int64\n",
    "    imin::Int64 = 1\n",
    "    min_ = data[imin]\n",
    "    for (i, x) in enumerate(data)\n",
    "        if x < min_\n",
    "            imin = i\n",
    "            min_ = x\n",
    "        end\n",
    "    end\n",
    "    return imin\n",
    "end"
   ]
  },
  {
   "cell_type": "code",
   "execution_count": 2,
   "metadata": {},
   "outputs": [
    {
     "name": "stdout",
     "output_type": "stream",
     "text": [
      "minimum in [0.760881, 0.140289, 0.288073, 0.359001, 0.210028, 0.24793, 0.676574, 0.921098, 0.774558, 0.259532] is 0.14028912372870717\n"
     ]
    }
   ],
   "source": [
    "data = rand(Float64, 10)\n",
    "imin = argmin_(data)\n",
    "println(\"minimum in $data is $(data[imin])\")"
   ]
  },
  {
   "cell_type": "markdown",
   "metadata": {},
   "source": [
    "## Selection Sort"
   ]
  },
  {
   "cell_type": "code",
   "execution_count": 3,
   "metadata": {},
   "outputs": [
    {
     "data": {
      "text/plain": [
       "selection_sort (generic function with 1 method)"
      ]
     },
     "execution_count": 3,
     "metadata": {},
     "output_type": "execute_result"
    }
   ],
   "source": [
    "function selection_sort(data::Array)\n",
    "    @inbounds for i in 1:length(data)-1\n",
    "        imin = i\n",
    "        for j in i+1:length(data)\n",
    "            if data[j] < data[imin]\n",
    "                imin = j\n",
    "            end\n",
    "        end\n",
    "        data[i], data[imin] = data[imin], data[i]\n",
    "    end\n",
    "    return data\n",
    "end"
   ]
  },
  {
   "cell_type": "code",
   "execution_count": 61,
   "metadata": {
    "scrolled": true
   },
   "outputs": [
    {
     "name": "stdout",
     "output_type": "stream",
     "text": [
      "elapsed time : 0.35950076659999997 ± 0.022563228695646385\n"
     ]
    }
   ],
   "source": [
    "import Random\n",
    "import Statistics\n",
    "n = 10\n",
    "Random.seed!(2718)\n",
    "elapsed = []\n",
    "for _ in 1:n\n",
    "    data = rand(Float64, 30000)\n",
    "    push!(elapsed, @elapsed selection_sort(data))\n",
    "end\n",
    "mean_time = Statistics.mean(elapsed)\n",
    "std_time = Statistics.std(elapsed)\n",
    "println(\"elapsed time : $mean_time ± $std_time\")"
   ]
  },
  {
   "cell_type": "markdown",
   "metadata": {},
   "source": [
    "## Bubble Sort"
   ]
  },
  {
   "cell_type": "code",
   "execution_count": 5,
   "metadata": {},
   "outputs": [
    {
     "data": {
      "text/plain": [
       "bubble_sort (generic function with 1 method)"
      ]
     },
     "execution_count": 5,
     "metadata": {},
     "output_type": "execute_result"
    }
   ],
   "source": [
    "function bubble_sort(data::Array)\n",
    "    @inbounds for i in 1:length(data)-1\n",
    "        imin = length(data)\n",
    "        for j in length(data)-1:-1:i\n",
    "            if data[j] < data[imin]\n",
    "                imin = j\n",
    "            end\n",
    "        end\n",
    "        data[i],data[imin] = data[imin], data[i]\n",
    "    end\n",
    "    return data\n",
    "end"
   ]
  },
  {
   "cell_type": "code",
   "execution_count": 60,
   "metadata": {},
   "outputs": [
    {
     "name": "stdout",
     "output_type": "stream",
     "text": [
      "elapsed time : 0.5026970807000001 ± 0.023415339943730195\n"
     ]
    }
   ],
   "source": [
    "import Random\n",
    "import Statistics\n",
    "n = 10\n",
    "Random.seed!(2718)\n",
    "elapsed = []\n",
    "for _ in 1:n\n",
    "    data = rand(Float64, 30000)\n",
    "    push!(elapsed, @elapsed bubble_sort(data))\n",
    "end\n",
    "mean_time = Statistics.mean(elapsed)\n",
    "std_time = Statistics.std(elapsed)\n",
    "println(\"elapsed time : $mean_time ± $std_time\")"
   ]
  },
  {
   "cell_type": "markdown",
   "metadata": {},
   "source": [
    "## Heap Sort"
   ]
  },
  {
   "cell_type": "code",
   "execution_count": 21,
   "metadata": {},
   "outputs": [
    {
     "data": {
      "text/plain": [
       "down_heap (generic function with 2 methods)"
      ]
     },
     "execution_count": 21,
     "metadata": {},
     "output_type": "execute_result"
    }
   ],
   "source": [
    "function down_heap(data::Array, left::Int, right::Int)::Array\n",
    "    \"\"\"\n",
    "    # Arguments\n",
    "    - `data::Array`: the sorted Array\n",
    "    - `left::Int, right::Int`: range for the sort\n",
    "    \"\"\"\n",
    "    parent::Int = left\n",
    "    \n",
    "    while 2*parent <= right\n",
    "        cl::Int = parent*2\n",
    "        cr::Int = cl + 1\n",
    "        child::Int = (cr <= right && data[cr] > data[cl]) ? cr : cl\n",
    "        if data[parent] < data[child]\n",
    "            data[parent], data[child] = data[child], data[parent]\n",
    "        end\n",
    "        parent = child\n",
    "    end\n",
    "    return data\n",
    "end"
   ]
  },
  {
   "cell_type": "code",
   "execution_count": 22,
   "metadata": {},
   "outputs": [
    {
     "data": {
      "text/plain": [
       "make_heap (generic function with 1 method)"
      ]
     },
     "execution_count": 22,
     "metadata": {},
     "output_type": "execute_result"
    }
   ],
   "source": [
    "function make_heap(data::Array)::Array\n",
    "    for n in div(length(data), 2):-1:1\n",
    "        data = down_heap(data, n, length(data))\n",
    "    end\n",
    "    return data\n",
    "end"
   ]
  },
  {
   "cell_type": "code",
   "execution_count": 35,
   "metadata": {},
   "outputs": [
    {
     "data": {
      "text/plain": [
       "heap_sort (generic function with 1 method)"
      ]
     },
     "execution_count": 35,
     "metadata": {},
     "output_type": "execute_result"
    }
   ],
   "source": [
    "function heap_sort(data::Array)::Array\n",
    "    data = make_heap(data)  # make heap\n",
    "    @inbounds for i in 0:length(data)-2\n",
    "        data[1], data[end-i] = data[end-i], data[1] \n",
    "        data = down_heap(data, 1, length(data)-(i+1))\n",
    "    end\n",
    "    return data\n",
    "end"
   ]
  },
  {
   "cell_type": "code",
   "execution_count": 62,
   "metadata": {},
   "outputs": [
    {
     "name": "stdout",
     "output_type": "stream",
     "text": [
      "elapsed time : 0.0040113449 ± 0.0008059928730802154\n"
     ]
    }
   ],
   "source": [
    "import Random\n",
    "import Statistics\n",
    "n = 10\n",
    "Random.seed!(2718)\n",
    "elapsed = []\n",
    "for _ in 1:n\n",
    "    data = rand(Float64, 30000)\n",
    "    push!(elapsed, @elapsed heap_sort(data))\n",
    "end\n",
    "mean_time = Statistics.mean(elapsed)\n",
    "std_time = Statistics.std(elapsed)\n",
    "println(\"elapsed time : $mean_time ± $std_time\")"
   ]
  },
  {
   "cell_type": "code",
   "execution_count": null,
   "metadata": {},
   "outputs": [],
   "source": []
  }
 ],
 "metadata": {
  "kernelspec": {
   "display_name": "Julia 1.0.0",
   "language": "julia",
   "name": "julia-1.0"
  },
  "language_info": {
   "file_extension": ".jl",
   "mimetype": "application/julia",
   "name": "julia",
   "version": "1.0.3"
  },
  "toc": {
   "nav_menu": {},
   "number_sections": true,
   "sideBar": true,
   "skip_h1_title": false,
   "title_cell": "Table of Contents",
   "title_sidebar": "Contents",
   "toc_cell": false,
   "toc_position": {},
   "toc_section_display": true,
   "toc_window_display": false
  }
 },
 "nbformat": 4,
 "nbformat_minor": 2
}
